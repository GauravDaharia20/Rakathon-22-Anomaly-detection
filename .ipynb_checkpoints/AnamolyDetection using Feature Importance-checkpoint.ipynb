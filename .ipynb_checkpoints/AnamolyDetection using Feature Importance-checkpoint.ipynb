{
 "cells": [
  {
   "cell_type": "markdown",
   "id": "cc22a2d0",
   "metadata": {},
   "source": [
    "# Liberary in use"
   ]
  },
  {
   "cell_type": "code",
   "execution_count": 23,
   "id": "7ca5df01",
   "metadata": {},
   "outputs": [],
   "source": [
    "from sklearn.datasets import load_boston\n",
    "from sklearn.ensemble import RandomForestRegressor\n",
    "import pandas as pd\n",
    "from sklearn.model_selection import cross_val_score, train_test_split as tts\n",
    "import matplotlib.pyplot as plt"
   ]
  },
  {
   "cell_type": "markdown",
   "id": "988a2c67",
   "metadata": {},
   "source": [
    "# Data loading"
   ]
  },
  {
   "cell_type": "code",
   "execution_count": 2,
   "id": "62261eb6",
   "metadata": {
    "collapsed": true
   },
   "outputs": [
    {
     "name": "stderr",
     "output_type": "stream",
     "text": [
      "C:\\Users\\PC-DELL\\anaconda3\\envs\\tf_gpu\\lib\\site-packages\\sklearn\\utils\\deprecation.py:87: FutureWarning: Function load_boston is deprecated; `load_boston` is deprecated in 1.0 and will be removed in 1.2.\n",
      "\n",
      "    The Boston housing prices dataset has an ethical problem. You can refer to\n",
      "    the documentation of this function for further details.\n",
      "\n",
      "    The scikit-learn maintainers therefore strongly discourage the use of this\n",
      "    dataset unless the purpose of the code is to study and educate about\n",
      "    ethical issues in data science and machine learning.\n",
      "\n",
      "    In this special case, you can fetch the dataset from the original\n",
      "    source::\n",
      "\n",
      "        import pandas as pd\n",
      "        import numpy as np\n",
      "\n",
      "\n",
      "        data_url = \"http://lib.stat.cmu.edu/datasets/boston\"\n",
      "        raw_df = pd.read_csv(data_url, sep=\"\\s+\", skiprows=22, header=None)\n",
      "        data = np.hstack([raw_df.values[::2, :], raw_df.values[1::2, :2]])\n",
      "        target = raw_df.values[1::2, 2]\n",
      "\n",
      "    Alternative datasets include the California housing dataset (i.e.\n",
      "    :func:`~sklearn.datasets.fetch_california_housing`) and the Ames housing\n",
      "    dataset. You can load the datasets as follows::\n",
      "\n",
      "        from sklearn.datasets import fetch_california_housing\n",
      "        housing = fetch_california_housing()\n",
      "\n",
      "    for the California housing dataset and::\n",
      "\n",
      "        from sklearn.datasets import fetch_openml\n",
      "        housing = fetch_openml(name=\"house_prices\", as_frame=True)\n",
      "\n",
      "    for the Ames housing dataset.\n",
      "    \n",
      "  warnings.warn(msg, category=FutureWarning)\n"
     ]
    }
   ],
   "source": [
    "boston = load_boston()"
   ]
  },
  {
   "cell_type": "markdown",
   "id": "cfa1a16c",
   "metadata": {},
   "source": [
    "# Seperating the data"
   ]
  },
  {
   "cell_type": "code",
   "execution_count": 17,
   "id": "57271c03",
   "metadata": {},
   "outputs": [],
   "source": [
    "X = pd.DataFrame(boston.data, columns=boston.feature_names)\n",
    "y = boston.target\n",
    "ref = RandomForestRegressor(max_depth=7, \n",
    "                            max_features= 0.46402846729561337,\n",
    "                            min_samples_split=3, n_estimators=99)"
   ]
  },
  {
   "cell_type": "markdown",
   "id": "262f1f13",
   "metadata": {},
   "source": [
    "# Spliting The Data"
   ]
  },
  {
   "cell_type": "code",
   "execution_count": 18,
   "id": "3d8d86be",
   "metadata": {},
   "outputs": [],
   "source": [
    "X_train,X_test,y_train,y_test = tts(X,y,test_size=0.2, random_state=42)"
   ]
  },
  {
   "cell_type": "markdown",
   "id": "65babe61",
   "metadata": {},
   "source": [
    "# Hyper-parameter tuning"
   ]
  },
  {
   "cell_type": "code",
   "execution_count": null,
   "id": "f57bfe01",
   "metadata": {},
   "outputs": [],
   "source": [
    "%%time\n",
    "import numpy as np\n",
    "from hyperopt import hp, tpe, fmin,STATUS_OK,Trials\n",
    "\n",
    "def accuracy_model(params):\n",
    "    clf = RandomForestRegressor(**params)\n",
    "    return cross_val_score(clf, X_train, y_train).mean()\n",
    "param_space = {'max_depth': hp.choice('max_depth', range(10,100)),\n",
    "'max_features': hp.uniform('max_features', 0.1,1),\n",
    "'n_estimators': hp.choice('n_estimators', range(50,500)),\n",
    "'min_samples_leaf': hp.choice('min_samples_leaf',range(3,5)),\n",
    "'min_samples_split': hp.choice('min_samples_split',range(2,10)),\n",
    "'criterion': hp.choice('criterion', [\"squared_error\", \"absolute_error\", \"poisson\"])}\n",
    "best = 0\n",
    "def f(params):\n",
    "    global best\n",
    "    acc = accuracy_model(params)\n",
    "    if acc > best:\n",
    "        best = acc\n",
    "    return {'loss': -acc, 'status': STATUS_OK}\n",
    "Trials = Trials()\n",
    "best_params = fmin(f, param_space , algo=tpe.suggest,max_evals=500, trials= Trials)\n",
    "print('New best:', best, best_params)\n",
    "print(best_params)\n",
    "100%|█████████████████████████████████████████████| 500/500 [42:17<00:00,  5.08s/trial, best loss: -0.8319327043109389]\n",
    "New best: 0.8319327043109389 {'criterion': 0, 'max_depth': 7, 'max_features': 0.46402846729561337, 'min_samples_leaf': 0, 'min_samples_split': 3, 'n_estimators': 99}\n",
    "{'criterion': 0, 'max_depth': 7, 'max_features': 0.46402846729561337, 'min_samples_leaf': 0, 'min_samples_split': 3, 'n_estimators': 99}\n",
    "CPU times: total: 22min 42s\n",
    "Wall time: 42min 18s"
   ]
  },
  {
   "cell_type": "code",
   "execution_count": 19,
   "id": "1a998245",
   "metadata": {},
   "outputs": [
    {
     "data": {
      "text/plain": [
       "RandomForestRegressor(max_depth=7, max_features=0.46402846729561337,\n",
       "                      min_samples_split=3, n_estimators=99)"
      ]
     },
     "execution_count": 19,
     "metadata": {},
     "output_type": "execute_result"
    }
   ],
   "source": [
    "ref.fit(X_train,y_train)"
   ]
  },
  {
   "cell_type": "code",
   "execution_count": 26,
   "id": "95ad902e",
   "metadata": {},
   "outputs": [
    {
     "data": {
      "text/plain": [
       "0.8702869458373699"
      ]
     },
     "execution_count": 26,
     "metadata": {},
     "output_type": "execute_result"
    }
   ],
   "source": [
    "ref.score(X_test,y_test)"
   ]
  },
  {
   "cell_type": "markdown",
   "id": "6181d844",
   "metadata": {},
   "source": [
    "# Calculating and analysing features for identifying, track and action on important features that have impact on business "
   ]
  },
  {
   "cell_type": "code",
   "execution_count": 41,
   "id": "716b300a",
   "metadata": {
    "scrolled": true
   },
   "outputs": [
    {
     "data": {
      "image/png": "[encoded data removed]",
      "text/plain": [
       "<Figure size 432x288 with 1 Axes>"
      ]
     },
     "metadata": {
      "needs_background": "light"
     },
     "output_type": "display_data"
    }
   ],
   "source": [
    "sort = ref.feature_importances_.argsort()\n",
    "plt.barh(boston.feature_names[sort], ref.feature_importances_[sort])\n",
    "plt.xlabel(\"Feature Importance\")\n",
    "plt.show()"
   ]
  },
  {
   "cell_type": "code",
   "execution_count": null,
   "id": "2af6b37b",
   "metadata": {},
   "outputs": [],
   "source": []
  }
 ],
 "metadata": {
  "kernelspec": {
   "display_name": "Python 3 (ipykernel)",
   "language": "python",
   "name": "python3"
  },
  "language_info": {
   "codemirror_mode": {
    "name": "ipython",
    "version": 3
   },
   "file_extension": ".py",
   "mimetype": "text/x-python",
   "name": "python",
   "nbconvert_exporter": "python",
   "pygments_lexer": "ipython3",
   "version": "3.10.0"
  }
 },
 "nbformat": 4,
 "nbformat_minor": 5
}
